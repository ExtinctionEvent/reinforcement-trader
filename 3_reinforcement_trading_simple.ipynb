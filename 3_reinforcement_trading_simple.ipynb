{
 "cells": [
  {
   "cell_type": "code",
   "execution_count": 1,
   "metadata": {},
   "outputs": [],
   "source": [
    "import pandas as pd\n",
    "import numpy as np"
   ]
  },
  {
   "cell_type": "code",
   "execution_count": 2,
   "metadata": {},
   "outputs": [],
   "source": [
    "import sympy as sp"
   ]
  },
  {
   "cell_type": "code",
   "execution_count": 3,
   "metadata": {},
   "outputs": [
    {
     "name": "stderr",
     "output_type": "stream",
     "text": [
      "/home/m/anaconda3/lib/python3.7/site-packages/statsmodels/tools/_testing.py:19: FutureWarning: pandas.util.testing is deprecated. Use the functions in the public API at pandas.testing instead.\n",
      "  import pandas.util.testing as tm\n"
     ]
    }
   ],
   "source": [
    "import seaborn as sns"
   ]
  },
  {
   "cell_type": "code",
   "execution_count": 4,
   "metadata": {},
   "outputs": [],
   "source": [
    "from scipy import stats"
   ]
  },
  {
   "cell_type": "code",
   "execution_count": 5,
   "metadata": {},
   "outputs": [],
   "source": [
    "from numba import jit"
   ]
  },
  {
   "cell_type": "markdown",
   "metadata": {},
   "source": [
    "# Overview"
   ]
  },
  {
   "cell_type": "markdown",
   "metadata": {},
   "source": [
    "Given a trading system model $F_{t}(\\theta)$, the goal is to adjust the parameters $\\theta$ in order to maximise $U_{t}$ (wealth).\n",
    "\n",
    "$$ \\frac{dU_{T}(\\theta)}{d\\theta} = \n",
    "\\sum \\limits _{t=1} ^ {T} \n",
    "\\frac{dU_{T}}{dR_{t}} \n",
    "\\{ \\frac{dR_{t}}{dF_{t}} \\frac{dF_{t}}{d\\theta} + \\frac{dR_{t}}{dF_{t-1}} \\frac{dF_{t-1}}{d\\theta}  \\}$$\n",
    "\n",
    "Where:\n",
    "* $U$ = wealth function (Sharpe ratio / Sterling ratio)\n",
    "* $R_{t}$ = returns  \n",
    "* $F_{t}$ = position  \n",
    "* $\\theta$ = model weights"
   ]
  },
  {
   "cell_type": "markdown",
   "metadata": {},
   "source": [
    "References\n",
    "\n",
    "J. Moody and M. Saffell, \"Learning to trade via direct reinforcement,\" in IEEE Transactions on Neural Networks, vol. 12, no. 4, pp. 875-889, July 2001, doi: 10.1109/72.935097.\n",
    "\n",
    "http://cs229.stanford.edu/proj2006/Molina-StockTradingWithRecurrentReinforcementLearning.pdf"
   ]
  },
  {
   "cell_type": "markdown",
   "metadata": {},
   "source": [
    "-----"
   ]
  },
  {
   "cell_type": "code",
   "execution_count": 6,
   "metadata": {},
   "outputs": [],
   "source": [
    "N = 1/100\n",
    "NUM_RETURNS = M = 15\n",
    "FEE = 0.02"
   ]
  },
  {
   "cell_type": "markdown",
   "metadata": {},
   "source": [
    "# Helper functions"
   ]
  },
  {
   "cell_type": "code",
   "execution_count": 7,
   "metadata": {},
   "outputs": [],
   "source": [
    "def get_normalised_returns(n=500):\n",
    "    df = pd.read_csv('~/Downloads/coinbaseGBP.csv', \n",
    "                 names=['_dt', 'price', 'size'])\n",
    "\n",
    "    df['dt'] = pd.to_datetime(df['_dt'],unit='s')\n",
    "    df = df.set_index('dt').drop(columns=['_dt'])\n",
    "\n",
    "    #df['ret'] = np.log(df.price) - np.log(df.price.shift(1))\n",
    "    df['ret'] = df['price'].pct_change()\n",
    "\n",
    "    df = df.tail(n)\n",
    "    \n",
    "    rets_z = stats.zscore(df.ret.values)\n",
    "    rets = np.tanh(rets_z)\n",
    "    return rets"
   ]
  },
  {
   "cell_type": "markdown",
   "metadata": {},
   "source": [
    "State takes the form: $[1, R_{t}, R_{t-1}, ..., R_{t-M}, F_{t-1}]$"
   ]
  },
  {
   "cell_type": "code",
   "execution_count": 8,
   "metadata": {},
   "outputs": [],
   "source": [
    "def positions(rets, weights):\n",
    "    '''\n",
    "    Apply weights to state to determine positisons\n",
    "    '''\n",
    "    \n",
    "    T = len(rets)\n",
    "    pos = np.zeros(T)\n",
    "    for t in range(M, T):\n",
    "        state = np.concatenate([ [1], rets[t - M:t], [pos[t-1]] ])\n",
    "        pos[t] = np.tanh(np.dot(weights, state))\n",
    "        \n",
    "    return pos"
   ]
  },
  {
   "cell_type": "code",
   "execution_count": 9,
   "metadata": {},
   "outputs": [],
   "source": [
    "def returns(positions, rets, fee):\n",
    "    '''\n",
    "    Calculate realised returns based on positions and fees\n",
    "    '''\n",
    "    T = len(rets)\n",
    "    rets = (positions[0:T-1] * rets[1:T]) - fee * (np.abs(positions[1:T] - positions[0:T-1]))\n",
    "    return np.concatenate([[0], rets])"
   ]
  },
  {
   "cell_type": "markdown",
   "metadata": {},
   "source": [
    "# Derivatives for gradient ascent"
   ]
  },
  {
   "cell_type": "markdown",
   "metadata": {},
   "source": [
    "# $$ \\frac{dU_{T}(\\theta)}{d\\theta} = \n",
    "\\sum \\limits _{t=1} ^ {T} \n",
    "\\frac{dU_{T}}{dR_{t}} \n",
    "\\{ \\frac{dR_{t}}{dF_{t}} \\frac{dF_{t}}{d\\theta} + \\frac{dR_{t}}{dF_{t-1}} \\frac{dF_{t-1}}{d\\theta}  \\}$$"
   ]
  },
  {
   "cell_type": "markdown",
   "metadata": {},
   "source": [
    "----"
   ]
  },
  {
   "cell_type": "markdown",
   "metadata": {},
   "source": [
    "## $$\\frac{dU_{T}}{dR_{t}} $$  \n",
    "  \n",
    "  "
   ]
  },
  {
   "cell_type": "markdown",
   "metadata": {},
   "source": [
    "The *Sterling Ratio* is used as a wealth function:\n",
    "\n",
    "$$ U_{t} = SterlingRatio = \\frac{Annualized Average Return}{Maximum Drawdown}$$  \n",
    "  \n",
    "  \n",
    "  \n"
   ]
  },
  {
   "cell_type": "markdown",
   "metadata": {},
   "source": [
    "  \n",
    "This has been approximated to the Downside Deviation Ratio (DDR):\n",
    "\n",
    "$$ DDR_{T} = \\frac{Average(R_{t})}{DD_{T}} $$\n",
    "\n",
    "Where $$DD_{T} = (\\frac{1}{T}\\sum \\limits _{t=1} ^ {T} min \\{R_{t},0\\}^2)^\\frac{1}{2} $$"
   ]
  },
  {
   "cell_type": "markdown",
   "metadata": {},
   "source": [
    "#### Approximated for online learning as:"
   ]
  },
  {
   "cell_type": "markdown",
   "metadata": {},
   "source": [
    "Exponential moving average of returns:\n",
    "$$A_{t} = A_{t-1} + n(R_{t} - A_{t-1})$$"
   ]
  },
  {
   "cell_type": "code",
   "execution_count": 10,
   "metadata": {},
   "outputs": [],
   "source": [
    "def A(ret):\n",
    "    T = len(ret)\n",
    "    A = np.zeros(T)\n",
    "    \n",
    "    for t in range(NUM_RETURNS, T):\n",
    "        A[t] = A[t-1] + (N * (ret[t] - A[t-1]))\n",
    "        \n",
    "    return A"
   ]
  },
  {
   "cell_type": "markdown",
   "metadata": {},
   "source": [
    "Exponential moving average of squared drawdown: \n",
    "$$DD_{t}^2 = DD_{t-1}^2 + n(min(R_{t},0)^2 - DD_{t-1}^2)$$"
   ]
  },
  {
   "cell_type": "code",
   "execution_count": 11,
   "metadata": {},
   "outputs": [],
   "source": [
    "def DD(ret):\n",
    "    T = len(ret)\n",
    "    DD = np.zeros(T)\n",
    "    for t in range(NUM_RETURNS, T):\n",
    "        DD[t] = DD[t-1] + (N * (min(ret[t],0)**2 - DD[t-1]))\n",
    "        \n",
    "    return DD"
   ]
  },
  {
   "cell_type": "markdown",
   "metadata": {},
   "source": [
    "Combined to produce the Differential Downside Deviation Ratio (DDR):\n",
    "\n",
    "$$D_{t} = \\frac{DD_t^2{-1} \\cdot (R_{t} - \\frac{1}{2} A_{t-1}) - \\frac{1}{2} A_{t-1}R_{t}^2}{DD_{t-1}^3} $$"
   ]
  },
  {
   "cell_type": "markdown",
   "metadata": {},
   "source": [
    "#### Differential downside deviation ratio "
   ]
  },
  {
   "cell_type": "code",
   "execution_count": 25,
   "metadata": {
    "scrolled": true
   },
   "outputs": [
    {
     "data": {
      "text/plain": [
       "'Differential downside deviation ratio (Dt):'"
      ]
     },
     "metadata": {},
     "output_type": "display_data"
    },
    {
     "data": {
      "text/latex": [
       "$\\displaystyle \\frac{- 0.5 A_{t -1} rt^{2} + dd_{t -1}^{2} \\left(- 0.5 A_{t -1} + rt\\right)}{dd_{t -1}^{3}}$"
      ],
      "text/plain": [
       "(-0.5*A_t_-1*rt**2 + dd_t_-1**2*(-0.5*A_t_-1 + rt))/dd_t_-1**3"
      ]
     },
     "metadata": {},
     "output_type": "display_data"
    },
    {
     "data": {
      "text/plain": [
       "'Partial derivative of Dt with respect to Rt:'"
      ]
     },
     "metadata": {},
     "output_type": "display_data"
    },
    {
     "data": {
      "text/latex": [
       "$\\displaystyle \\frac{- 1.0 A_{t -1} rt + dd_{t -1}^{2}}{dd_{t -1}^{3}}$"
      ],
      "text/plain": [
       "(-1.0*A_t_-1*rt + dd_t_-1**2)/dd_t_-1**3"
      ]
     },
     "metadata": {},
     "output_type": "display_data"
    }
   ],
   "source": [
    "import sympy as sp\n",
    "\n",
    "dd_t_1, rt, A_t_1 = sp.symbols('dd_t_-1, rt, A_t_-1')\n",
    "Dt = (dd_t_1**2 * (rt - 0.5*A_t_1) - (0.5*A_t_1*rt**2)) / dd_t_1**3\n",
    "\n",
    "display('Differential downside deviation ratio (Dt):', Dt)\n",
    "\n",
    "dDdR = sp.diff(Dt, rt)\n",
    "display('Partial derivative of Dt with respect to Rt:', dDdR)"
   ]
  },
  {
   "cell_type": "code",
   "execution_count": 13,
   "metadata": {},
   "outputs": [],
   "source": [
    "sterling_ratio = lambda r: np.mean(r) / min(r)"
   ]
  },
  {
   "cell_type": "code",
   "execution_count": 14,
   "metadata": {},
   "outputs": [],
   "source": [
    "def dUdR(a, t, r, dd):\n",
    "    return ((-1*a[t-1]*r[t]) + dd[t-1]) / dd[t-1]"
   ]
  },
  {
   "cell_type": "markdown",
   "metadata": {},
   "source": [
    "-------"
   ]
  },
  {
   "cell_type": "markdown",
   "metadata": {},
   "source": [
    "## $$\\frac{dR_{t}}{dF_{t}} = -\\mu\\delta \\cdot sgn(F_{t} - F_{t-1})$$"
   ]
  },
  {
   "cell_type": "code",
   "execution_count": 15,
   "metadata": {},
   "outputs": [],
   "source": [
    "def dRdFt(delta, Ft, t):\n",
    "    return -delta * np.sign(Ft[t] - Ft[t-1])"
   ]
  },
  {
   "cell_type": "markdown",
   "metadata": {},
   "source": [
    "-----"
   ]
  },
  {
   "cell_type": "markdown",
   "metadata": {},
   "source": [
    "## $$\\frac{dF_{t}}{d\\theta} = (1-tanh(\\theta^Tx_{t})^2) \\cdot \\{ x_{t} + w_{M+2} \\frac{dF_{t-1}}{d\\theta} \\}$$"
   ]
  },
  {
   "cell_type": "code",
   "execution_count": 16,
   "metadata": {},
   "outputs": [],
   "source": [
    "def dFtdTheta(Ft, t, rets, theta, prev):\n",
    "    return (1 - Ft[t] ** 2) * (rets[t] + theta[-1] * prev)  "
   ]
  },
  {
   "cell_type": "markdown",
   "metadata": {},
   "source": [
    "------"
   ]
  },
  {
   "cell_type": "markdown",
   "metadata": {},
   "source": [
    "## $$\\frac{dR_{t}}{dF_{t-1}} = \\mu.r_{t} + \\mu\\delta \\cdot sgn(F_{t}-F_{t-1})$$"
   ]
  },
  {
   "cell_type": "code",
   "execution_count": 17,
   "metadata": {},
   "outputs": [],
   "source": [
    "def dRdFtp(rets, delta, Ft, t):\n",
    "    return rets[t] + delta * np.sign(Ft[t] - Ft[t-1])"
   ]
  },
  {
   "cell_type": "markdown",
   "metadata": {},
   "source": [
    "-----"
   ]
  },
  {
   "cell_type": "code",
   "execution_count": 18,
   "metadata": {},
   "outputs": [],
   "source": [
    "def gradient(rets, weights, fee):\n",
    "    pos = positions(rets, weights) \n",
    "    r = returns(pos, rets, FEE) \n",
    "   \n",
    "    # I don't think i need to calc this for all time here, \n",
    "    # just N where n = (1/N)\n",
    "    a = A(r)\n",
    "    dd = DD(r)\n",
    "    \n",
    "    return _gradient(rets, pos, a, dd, fee), sterling_ratio(r)\n",
    "    \n",
    "def _gradient(rets, pos, a, dd, fee):\n",
    "    T = len(rets)\n",
    "    grad = np.zeros(M + 2)\n",
    "    dFpdtheta = np.zeros(M + 2)\n",
    "\n",
    "    for t in range(M, T):\n",
    "        state = np.concatenate([ [1], rets[t - M:t], [pos[t-1]] ])\n",
    "        \n",
    "        _dUdR = dUdR(a, t, rets, dd)\n",
    "        \n",
    "        _dRdFt = dRdFt(fee, pos, t)\n",
    "        _dRFtp = dRdFtp(rets, fee, pos, t)\n",
    "        \n",
    "        _dFdtheta = dFtdTheta(pos, t, rets, weights, dFpdtheta) \n",
    "        dFpdtheta = _dFdtheta\n",
    "        \n",
    "        inner = ( (_dRdFt * _dFdtheta) + (_dRFtp * dFpdtheta) )\n",
    "        grad = grad + np.nan_to_num(_dUdR * inner)\n",
    "        \n",
    "    return grad\n",
    "\n"
   ]
  },
  {
   "cell_type": "code",
   "execution_count": 19,
   "metadata": {},
   "outputs": [
    {
     "name": "stderr",
     "output_type": "stream",
     "text": [
      "/home/m/anaconda3/lib/python3.7/site-packages/ipykernel_launcher.py:2: RuntimeWarning: invalid value encountered in double_scalars\n",
      "  \n"
     ]
    },
    {
     "name": "stdout",
     "output_type": "stream",
     "text": [
      "0.030387172094177 10.662966140619837\n",
      "0.03683403159609589 1.2365515899495936\n",
      "0.03682728098953433 1.1287143563891606\n",
      "0.03678034248366528 1.0267094887606971\n",
      "0.036693867287041486 0.9252354770388297\n",
      "0.03649586272109285 0.863026770715192\n",
      "0.03625230361696545 0.8331575417273649\n",
      "0.036186359921093134 0.8648834271526583\n",
      "0.03651728790076374 0.9299660418537741\n",
      "0.0374371463559088 0.8891973809242099\n",
      "0.0373196166226877 0.8801691074768832\n",
      "0.03436581647074232 -7.520532004499808\n",
      "-0.009604765137864648 0.29637842066870373\n",
      "-0.009059482454185953 0.08921467010341484\n",
      "-0.008355385524548889 0.08369527973093828\n",
      "-0.007326437636115424 0.0815789860494289\n",
      "-0.0062980294867744264 0.0793095572372224\n",
      "-0.0056323320074318905 0.07758555239761092\n",
      "-0.005236047695767724 0.07777444691547031\n",
      "-0.004885156456457858 0.0798301176368451\n",
      "-0.004461342500465378 0.08352115112154554\n",
      "-0.003929803293583605 0.088858244559073\n",
      "-0.0033050102947060934 0.09606706340626159\n",
      "-0.002637136216055731 0.10585954558575526\n",
      "-0.0019857370369432514 0.11942159778822424\n",
      "-0.0013841964155725 0.13746452934498332\n",
      "-0.000831503324836863 0.15677714321399389\n",
      "-0.00032825183580223184 0.1657092515610687\n",
      "9.876362704452084e-05 0.15483101361585444\n",
      "0.0004432750182463412 0.13498737423443383\n",
      "0.0007259719683854528 0.12087061543640569\n",
      "0.0009534312131556388 0.11392651302620432\n",
      "0.0011214697863370683 0.10916263362332504\n",
      "0.0012386362032841582 0.10441209282792382\n",
      "0.001322246569691077 0.100067731653228\n",
      "0.0013784397057050556 0.09654721208989786\n",
      "0.0014179198636213206 0.09382249679197878\n",
      "0.0014467900154985873 0.0916859598578873\n",
      "0.0014686095981083188 0.08994192266633132\n",
      "0.0014855830797924356 0.08844578784963576\n",
      "0.001499129823128303 0.08709597360222322\n",
      "0.0015101894320577183 0.0858233908803942\n",
      "0.0015194013757804054 0.08458294791793912\n",
      "0.001527212869999564 0.08334672858227629\n",
      "0.0015339443336936922 0.08209873684167619\n",
      "0.0015398299845645353 0.08083103298579798\n",
      "0.0015450438123910247 0.07954098404440113\n",
      "0.0015497167650466545 0.07822934596230977\n",
      "0.0015539484794959333 0.07689894320775008\n",
      "0.001557815502130762 0.07555376919030136\n",
      "CPU times: user 1min 31s, sys: 837 ms, total: 1min 32s\n",
      "Wall time: 1min 31s\n"
     ]
    }
   ],
   "source": [
    "%%time \n",
    "\n",
    "epochs = 5000\n",
    "lr = 0.05\n",
    "weights = np.random.normal(loc=0, scale=1, size=M+2)-1\n",
    "best_weights = np.zeros(M+2)\n",
    "\n",
    "rets = get_normalised_returns()\n",
    "\n",
    "ddrs = []\n",
    "for i in range(0, epochs):\n",
    "    g, ddr = gradient(rets, weights, FEE)\n",
    "    weights = weights + (lr * g)\n",
    "    \n",
    "    ddrs.append(ddr)\n",
    "    if ddr == max(ddrs):\n",
    "        best_weights = weights\n",
    "    \n",
    "    if i % 1000 == 0:\n",
    "        print(ddr, g[0])"
   ]
  },
  {
   "cell_type": "code",
   "execution_count": 20,
   "metadata": {},
   "outputs": [],
   "source": [
    "Ft = positions(rets, best_weights)"
   ]
  },
  {
   "cell_type": "code",
   "execution_count": 21,
   "metadata": {},
   "outputs": [
    {
     "data": {
      "text/plain": [
       "<AxesSubplot:>"
      ]
     },
     "execution_count": 21,
     "metadata": {},
     "output_type": "execute_result"
    },
    {
     "data": {
      "image/png": "[encoded data removed]",
      "text/plain": [
       "<Figure size 432x288 with 1 Axes>"
      ]
     },
     "metadata": {
      "needs_background": "light"
     },
     "output_type": "display_data"
    }
   ],
   "source": [
    "realised_returns = returns(Ft, rets, 0.02)\n",
    "sns.distplot(realised_returns)"
   ]
  },
  {
   "cell_type": "code",
   "execution_count": 22,
   "metadata": {},
   "outputs": [
    {
     "data": {
      "text/plain": [
       "-0.04142222059078855"
      ]
     },
     "execution_count": 22,
     "metadata": {},
     "output_type": "execute_result"
    }
   ],
   "source": [
    "np.mean(realised_returns[np.where(realised_returns!=0)])"
   ]
  },
  {
   "cell_type": "code",
   "execution_count": 23,
   "metadata": {},
   "outputs": [
    {
     "data": {
      "text/plain": [
       "<AxesSubplot:>"
      ]
     },
     "execution_count": 23,
     "metadata": {},
     "output_type": "execute_result"
    },
    {
     "data": {
      "image/png": "[encoded data removed]",
      "text/plain": [
       "<Figure size 432x288 with 1 Axes>"
      ]
     },
     "metadata": {
      "needs_background": "light"
     },
     "output_type": "display_data"
    }
   ],
   "source": [
    "pd.Series(realised_returns[np.where(realised_returns!=0)]).plot()"
   ]
  },
  {
   "cell_type": "code",
   "execution_count": null,
   "metadata": {},
   "outputs": [],
   "source": []
  }
 ],
 "metadata": {
  "kernelspec": {
   "display_name": "Python 3",
   "language": "python",
   "name": "python3"
  },
  "language_info": {
   "codemirror_mode": {
    "name": "ipython",
    "version": 3
   },
   "file_extension": ".py",
   "mimetype": "text/x-python",
   "name": "python",
   "nbconvert_exporter": "python",
   "pygments_lexer": "ipython3",
   "version": "3.7.4"
  }
 },
 "nbformat": 4,
 "nbformat_minor": 4
}
