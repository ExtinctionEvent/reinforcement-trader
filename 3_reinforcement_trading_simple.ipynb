{
 "cells": [
  {
   "cell_type": "code",
   "execution_count": 1,
   "metadata": {},
   "outputs": [],
   "source": [
    "import pandas as pd\n",
    "import numpy as np"
   ]
  },
  {
   "cell_type": "code",
   "execution_count": 2,
   "metadata": {},
   "outputs": [],
   "source": [
    "import sympy as sp"
   ]
  },
  {
   "cell_type": "code",
   "execution_count": 3,
   "metadata": {},
   "outputs": [
    {
     "name": "stderr",
     "output_type": "stream",
     "text": [
      "/home/m/anaconda3/lib/python3.7/site-packages/statsmodels/tools/_testing.py:19: FutureWarning: pandas.util.testing is deprecated. Use the functions in the public API at pandas.testing instead.\n",
      "  import pandas.util.testing as tm\n"
     ]
    }
   ],
   "source": [
    "import seaborn as sns"
   ]
  },
  {
   "cell_type": "code",
   "execution_count": 4,
   "metadata": {},
   "outputs": [],
   "source": [
    "from scipy import stats"
   ]
  },
  {
   "cell_type": "code",
   "execution_count": 5,
   "metadata": {},
   "outputs": [],
   "source": [
    "from numba import jit"
   ]
  },
  {
   "cell_type": "markdown",
   "metadata": {},
   "source": [
    "# Overview"
   ]
  },
  {
   "cell_type": "markdown",
   "metadata": {},
   "source": [
    "Given a trading system model $F_{t}(\\theta)$, the goal is to adjust the parameters $\\theta$ in order to maximise $U_{t}$ (wealth).\n",
    "\n",
    "$$ \\frac{dU_{T}(\\theta)}{d\\theta} = \n",
    "\\sum \\limits _{t=1} ^ {T} \n",
    "\\frac{dU_{T}}{dR_{t}} \n",
    "\\{ \\frac{dR_{t}}{dF_{t}} \\frac{dF_{t}}{d\\theta} + \\frac{dR_{t}}{dF_{t-1}} \\frac{dF_{t-1}}{d\\theta}  \\}$$\n",
    "\n",
    "Where:\n",
    "* $U$ = wealth function (Sharpe ratio / Sterling ratio)\n",
    "* $R_{t}$ = realised returns \n",
    "* $r_{t}$ = asset returns\n",
    "* $F_{t}$ = position  \n",
    "* $\\theta$ = model weights\n",
    "* $\\delta$ = transaction costs\n",
    "* $\\mu$ = max position (multiplied by $F_{t}$ which goes from -1 to 1)"
   ]
  },
  {
   "cell_type": "markdown",
   "metadata": {},
   "source": [
    "#### References\n",
    "\n",
    "* J. Moody and M. Saffell, \"Learning to trade via direct reinforcement,\" in IEEE Transactions on Neural Networks, vol. 12, no. 4, pp. 875-889, July 2001, doi: 10.1109/72.935097.\n",
    "\n",
    "* https://teddykoker.com/2019/06/trading-with-reinforcement-learning-in-python-part-ii-application/\n",
    "* http://cs229.stanford.edu/proj2006/Molina-StockTradingWithRecurrentReinforcementLearning.pdf"
   ]
  },
  {
   "cell_type": "markdown",
   "metadata": {},
   "source": [
    "-----"
   ]
  },
  {
   "cell_type": "code",
   "execution_count": 6,
   "metadata": {},
   "outputs": [],
   "source": [
    "N = 1/100\n",
    "NUM_RETURNS = M = 15\n",
    "FEE = 0.02"
   ]
  },
  {
   "cell_type": "markdown",
   "metadata": {},
   "source": [
    "## eturns"
   ]
  },
  {
   "cell_type": "code",
   "execution_count": 7,
   "metadata": {},
   "outputs": [],
   "source": [
    "def get_normalised_returns(n=500):\n",
    "    df = pd.read_csv('~/Downloads/coinbaseGBP.csv', \n",
    "                 names=['_dt', 'price', 'size'])\n",
    "\n",
    "    df['dt'] = pd.to_datetime(df['_dt'],unit='s')\n",
    "    df = df.set_index('dt').drop(columns=['_dt'])\n",
    "\n",
    "    df['ret'] = np.log(df.price) - np.log(df.price.shift(1))\n",
    "\n",
    "    df = df.tail(n)\n",
    "    \n",
    "    rets_z = stats.zscore(df.ret.values)\n",
    "    rets = np.tanh(rets_z)\n",
    "    \n",
    "    return rets"
   ]
  },
  {
   "cell_type": "markdown",
   "metadata": {},
   "source": [
    "## Calculate positions based on $tanh(\\theta \\cdot state)$"
   ]
  },
  {
   "cell_type": "markdown",
   "metadata": {},
   "source": [
    "State takes the form: $[1, R_{t}, R_{t-1}, ..., R_{t-M}, F_{t-1}]$ "
   ]
  },
  {
   "cell_type": "code",
   "execution_count": 8,
   "metadata": {},
   "outputs": [],
   "source": [
    "def positions(r, theta):\n",
    "    '''\n",
    "    Apply weights to state to determine positisons\n",
    "    '''\n",
    "    \n",
    "    T = len(r)\n",
    "    Ft = np.zeros(T)\n",
    "    for t in range(M, T):\n",
    "        state = np.concatenate([ [1], r[t - M:t], [Ft[t-1]] ])\n",
    "        Ft[t] = np.tanh(np.dot(theta, state))\n",
    "        \n",
    "    return Ft"
   ]
  },
  {
   "cell_type": "code",
   "execution_count": 9,
   "metadata": {},
   "outputs": [],
   "source": [
    "def returns(Ft, r, delta):\n",
    "    '''\n",
    "    Calculate realised returns based on positions and fees\n",
    "    '''\n",
    "    T = len(r)\n",
    "    R = (Ft[0:T-1] * r[1:T]) - delta * (np.abs(Ft[1:T] - Ft[0:T-1]))\n",
    "    return np.concatenate((np.array([0]), R))"
   ]
  },
  {
   "cell_type": "markdown",
   "metadata": {},
   "source": [
    "# Derivatives for gradient ascent"
   ]
  },
  {
   "cell_type": "markdown",
   "metadata": {},
   "source": [
    "# $$ \\frac{dU_{T}(\\theta)}{d\\theta} = \n",
    "\\sum \\limits _{t=1} ^ {T} \n",
    "\\frac{dU_{T}}{dR_{t}} \n",
    "\\{ \\frac{dR_{t}}{dF_{t}} \\frac{dF_{t}}{d\\theta} + \\frac{dR_{t}}{dF_{t-1}} \\frac{dF_{t-1}}{d\\theta}  \\}$$"
   ]
  },
  {
   "cell_type": "markdown",
   "metadata": {},
   "source": [
    "----"
   ]
  },
  {
   "cell_type": "markdown",
   "metadata": {},
   "source": [
    "## $$\\frac{dU_{T}}{dR_{t}} $$  \n",
    "  \n",
    "  "
   ]
  },
  {
   "cell_type": "markdown",
   "metadata": {},
   "source": [
    "The *Sterling Ratio* is used as a wealth function:\n",
    "\n",
    "$$ U_{t} = SterlingRatio = \\frac{Annualized Average Return}{Maximum Drawdown}$$  \n",
    "  \n",
    "  \n",
    "  \n"
   ]
  },
  {
   "cell_type": "markdown",
   "metadata": {},
   "source": [
    "  \n",
    "This has been approximated to the Downside Deviation Ratio (DDR):\n",
    "\n",
    "$$ DDR_{T} = \\frac{Average(R_{t})}{DD_{T}} $$\n",
    "\n",
    "Where $$DD_{T} = (\\frac{1}{T}\\sum \\limits _{t=1} ^ {T} min \\{R_{t},0\\}^2)^\\frac{1}{2} $$"
   ]
  },
  {
   "cell_type": "code",
   "execution_count": 10,
   "metadata": {},
   "outputs": [],
   "source": [
    "def DDR(R):\n",
    "    T = len(R)\n",
    "    R2 = np.zeros(T)\n",
    "    \n",
    "    for i in range(0, T):\n",
    "        R2[i] = min(R[i], 0)**2\n",
    "        \n",
    "    return np.mean(R) / (1/T * R2.sum())**0.5"
   ]
  },
  {
   "cell_type": "markdown",
   "metadata": {},
   "source": [
    "#### Approximated for online learning as:"
   ]
  },
  {
   "cell_type": "markdown",
   "metadata": {},
   "source": [
    "Exponential moving average of returns:\n",
    "$$A_{t} = A_{t-1} + n(R_{t} - A_{t-1})$$"
   ]
  },
  {
   "cell_type": "code",
   "execution_count": 11,
   "metadata": {},
   "outputs": [],
   "source": [
    "def get_A(R):\n",
    "    T = len(R)\n",
    "    A = np.zeros(T)\n",
    "    \n",
    "    for t in range(NUM_RETURNS, T):\n",
    "        A[t] = A[t-1] + (N * (R[t] - A[t-1]))\n",
    "        A[t] = np.nan_to_num(A[t])\n",
    "\n",
    "    return A"
   ]
  },
  {
   "cell_type": "markdown",
   "metadata": {},
   "source": [
    "Exponential moving average of squared drawdown: \n",
    "$$DD_{t}^2 = DD_{t-1}^2 + n(min(R_{t},0)^2 - DD_{t-1}^2)$$"
   ]
  },
  {
   "cell_type": "code",
   "execution_count": 12,
   "metadata": {},
   "outputs": [],
   "source": [
    "def get_DD2(R):\n",
    "    T = len(R)\n",
    "    DD2 = np.zeros(T)\n",
    "    for t in range(NUM_RETURNS, T):\n",
    "        DD2[t] = DD2[t-1] + N * (min(R[t],0)**2 - DD2[t-1])\n",
    "        DD2[t] = np.nan_to_num(DD2[t])\n",
    "        \n",
    "    return DD2"
   ]
  },
  {
   "cell_type": "markdown",
   "metadata": {},
   "source": [
    "Combined to produce the Differential Downside Deviation Ratio (DDR):\n",
    "\n",
    "$$D_{t} = \\frac{DD_{t-1}^2 \\cdot (R_{t} - \\frac{1}{2} A_{t-1}) - \\frac{1}{2} A_{t-1}R_{t}^2}{DD_{t-1}^3} $$"
   ]
  },
  {
   "cell_type": "markdown",
   "metadata": {},
   "source": [
    "#### Differential downside deviation ratio "
   ]
  },
  {
   "cell_type": "code",
   "execution_count": 13,
   "metadata": {
    "scrolled": true
   },
   "outputs": [
    {
     "data": {
      "text/plain": [
       "'Differential downside deviation ratio (Dt):'"
      ]
     },
     "metadata": {},
     "output_type": "display_data"
    },
    {
     "data": {
      "text/latex": [
       "$\\displaystyle \\frac{- 0.5 A_{t -1} R_{t}^{2} + DD_{t -1}^{2} \\left(- 0.5 A_{t -1} + R_{t}\\right)}{DD_{t -1}^{3}}$"
      ],
      "text/plain": [
       "(-0.5*A_t_-1*R_t**2 + DD_t_-1**2*(-0.5*A_t_-1 + R_t))/DD_t_-1**3"
      ]
     },
     "metadata": {},
     "output_type": "display_data"
    },
    {
     "data": {
      "text/plain": [
       "'Partial derivative of Dt with respect to Rt:'"
      ]
     },
     "metadata": {},
     "output_type": "display_data"
    },
    {
     "data": {
      "text/latex": [
       "$\\displaystyle \\frac{- 1.0 A_{t -1} R_{t} + DD_{t -1}^{2}}{DD_{t -1}^{3}}$"
      ],
      "text/plain": [
       "(-1.0*A_t_-1*R_t + DD_t_-1**2)/DD_t_-1**3"
      ]
     },
     "metadata": {},
     "output_type": "display_data"
    }
   ],
   "source": [
    "import sympy as sp\n",
    "\n",
    "dd_t_1, rt, A_t_1 = sp.symbols('DD_t_-1, R_t, A_t_-1')\n",
    "Dt = (dd_t_1**2 * (rt - 0.5*A_t_1) - (0.5*A_t_1*rt**2)) / dd_t_1**3\n",
    "\n",
    "display('Differential downside deviation ratio (Dt):', Dt)\n",
    "\n",
    "dDdR = sp.diff(Dt, rt)\n",
    "display('Partial derivative of Dt with respect to Rt:', dDdR)"
   ]
  },
  {
   "cell_type": "code",
   "execution_count": 14,
   "metadata": {},
   "outputs": [],
   "source": [
    "def get_dUdR(A, t, R, DD2):\n",
    "    return ((-1*A[t-1]*R[t]) + DD2[t-1]) / DD2[t-1]**2"
   ]
  },
  {
   "cell_type": "markdown",
   "metadata": {},
   "source": [
    "-------"
   ]
  },
  {
   "cell_type": "markdown",
   "metadata": {},
   "source": [
    "## $$\\frac{dR_{t}}{dF_{t}} = -\\mu\\delta \\cdot sgn(F_{t} - F_{t-1})$$"
   ]
  },
  {
   "cell_type": "code",
   "execution_count": 15,
   "metadata": {},
   "outputs": [],
   "source": [
    "def get_dRdFt(delta, Ft, t):\n",
    "    return -delta * np.sign(Ft[t] - Ft[t-1])"
   ]
  },
  {
   "cell_type": "markdown",
   "metadata": {},
   "source": [
    "-----"
   ]
  },
  {
   "cell_type": "markdown",
   "metadata": {},
   "source": [
    "## $$\\frac{dF_{t}}{d\\theta} = (1-tanh(\\theta^Tx_{t})^2) \\cdot \\{ x_{t} + w_{M+2} \\frac{dF_{t-1}}{d\\theta} \\}$$"
   ]
  },
  {
   "cell_type": "code",
   "execution_count": 16,
   "metadata": {},
   "outputs": [],
   "source": [
    "def get_dFtdTheta(Ft, t, state, theta, prev):\n",
    "    return (1 - Ft[t] ** 2) * (state + theta[-1] * prev)"
   ]
  },
  {
   "cell_type": "markdown",
   "metadata": {},
   "source": [
    "------"
   ]
  },
  {
   "cell_type": "markdown",
   "metadata": {},
   "source": [
    "## $$\\frac{dR_{t}}{dF_{t-1}} = \\mu \\cdot r_{t} + \\mu\\delta \\cdot sgn(F_{t}-F_{t-1})$$"
   ]
  },
  {
   "cell_type": "code",
   "execution_count": 17,
   "metadata": {},
   "outputs": [],
   "source": [
    "def get_dRdFtp(r, delta, Ft, t):\n",
    "    return r[t] + delta * np.sign(Ft[t] - Ft[t-1])"
   ]
  },
  {
   "cell_type": "markdown",
   "metadata": {},
   "source": [
    "-----"
   ]
  },
  {
   "cell_type": "code",
   "execution_count": 18,
   "metadata": {},
   "outputs": [],
   "source": [
    "def gradient(rets, theta, delta):\n",
    "    Ft = positions(rets, weights) \n",
    "    R = returns(Ft, rets, delta) \n",
    "   \n",
    "    # I don't think i need to calc this for all time here, \n",
    "    # just N where n = (1/N)\n",
    "    A = get_A(R)\n",
    "    DD2 = get_DD2(R)\n",
    "    \n",
    "    return _gradient(rets, theta, R, Ft, A, DD2, delta), DDR(R)\n",
    "    \n",
    "def _gradient(rets, theta, R, Ft, A, DD2, delta):\n",
    "    T = len(rets)\n",
    "    grad = np.zeros(M + 2)\n",
    "    dFtdTheta_prev = np.zeros(M + 2)\n",
    "    \n",
    "    for t in range(M, T):\n",
    "        state = np.concatenate( (np.array([1]), rets[t - M:t], np.array([Ft[t-1]]) ))\n",
    "        \n",
    "        dRdFt = get_dRdFt(delta, Ft, t)\n",
    "\n",
    "        dFtdTheta = get_dFtdTheta(Ft, t, state, theta, dFtdTheta_prev)\n",
    "        dFtdTheta_prev = dFtdTheta\n",
    "        \n",
    "        dRdFtp = get_dRdFtp(rets, delta, Ft, t)\n",
    "\n",
    "        dUdR = get_dUdR(A, t, R, DD2)\n",
    "        \n",
    "        grad_delta = dUdR * (dRdFt*dFtdTheta) + (dRdFtp*dFtdTheta_prev)\n",
    "        grad = grad + np.nan_to_num(grad_delta)\n",
    "                \n",
    "    return grad"
   ]
  },
  {
   "cell_type": "code",
   "execution_count": 19,
   "metadata": {},
   "outputs": [
    {
     "name": "stderr",
     "output_type": "stream",
     "text": [
      "/home/m/anaconda3/lib/python3.7/site-packages/ipykernel_launcher.py:2: RuntimeWarning: invalid value encountered in double_scalars\n",
      "  \n"
     ]
    },
    {
     "name": "stdout",
     "output_type": "stream",
     "text": [
      "CPU times: user 1min 23s, sys: 534 ms, total: 1min 23s\n",
      "Wall time: 1min 23s\n"
     ]
    }
   ],
   "source": [
    "%%time \n",
    "\n",
    "epochs = 250\n",
    "lr = 0.005\n",
    "weights = np.random.normal(loc=0, scale=1, size=M+2)-1\n",
    "best_weights = np.zeros(M+2)\n",
    "\n",
    "rets = get_normalised_returns(n=5000)\n",
    "\n",
    "loss_history = []\n",
    "for i in range(0, epochs):\n",
    "    g, loss = gradient(rets, weights, FEE)\n",
    "    weights = weights + (lr * g)\n",
    "    \n",
    "    loss_history.append(loss)\n",
    "    if loss == max(loss_history):\n",
    "        best_weights = weights"
   ]
  },
  {
   "cell_type": "code",
   "execution_count": 20,
   "metadata": {},
   "outputs": [
    {
     "data": {
      "text/plain": [
       "<AxesSubplot:>"
      ]
     },
     "execution_count": 20,
     "metadata": {},
     "output_type": "execute_result"
    },
    {
     "data": {
      "image/png": "[encoded data removed]",
      "text/plain": [
       "<Figure size 432x288 with 1 Axes>"
      ]
     },
     "metadata": {
      "needs_background": "light"
     },
     "output_type": "display_data"
    }
   ],
   "source": [
    "sns.lineplot(range(0, len(loss_history)), loss_history)"
   ]
  },
  {
   "cell_type": "code",
   "execution_count": 21,
   "metadata": {},
   "outputs": [],
   "source": [
    "Ft = positions(rets, best_weights)"
   ]
  },
  {
   "cell_type": "code",
   "execution_count": 22,
   "metadata": {},
   "outputs": [
    {
     "data": {
      "text/plain": [
       "<AxesSubplot:>"
      ]
     },
     "execution_count": 22,
     "metadata": {},
     "output_type": "execute_result"
    },
    {
     "data": {
      "image/png": "[encoded data removed]",
      "text/plain": [
       "<Figure size 432x288 with 1 Axes>"
      ]
     },
     "metadata": {
      "needs_background": "light"
     },
     "output_type": "display_data"
    }
   ],
   "source": [
    "realised_returns = returns(Ft, rets, FEE)\n",
    "realised_returns = realised_returns[np.where(realised_returns!=0)]\n",
    "sns.distplot(realised_returns)"
   ]
  },
  {
   "cell_type": "code",
   "execution_count": 23,
   "metadata": {},
   "outputs": [
    {
     "data": {
      "text/plain": [
       "<AxesSubplot:>"
      ]
     },
     "execution_count": 23,
     "metadata": {},
     "output_type": "execute_result"
    },
    {
     "data": {
      "image/png": "[encoded data removed]",
      "text/plain": [
       "<Figure size 432x288 with 1 Axes>"
      ]
     },
     "metadata": {
      "needs_background": "light"
     },
     "output_type": "display_data"
    }
   ],
   "source": [
    "pd.Series(realised_returns).cumsum().plot()"
   ]
  },
  {
   "cell_type": "code",
   "execution_count": null,
   "metadata": {},
   "outputs": [],
   "source": []
  },
  {
   "cell_type": "code",
   "execution_count": null,
   "metadata": {},
   "outputs": [],
   "source": []
  }
 ],
 "metadata": {
  "kernelspec": {
   "display_name": "Python 3",
   "language": "python",
   "name": "python3"
  },
  "language_info": {
   "codemirror_mode": {
    "name": "ipython",
    "version": 3
   },
   "file_extension": ".py",
   "mimetype": "text/x-python",
   "name": "python",
   "nbconvert_exporter": "python",
   "pygments_lexer": "ipython3",
   "version": "3.7.4"
  }
 },
 "nbformat": 4,
 "nbformat_minor": 4
}
