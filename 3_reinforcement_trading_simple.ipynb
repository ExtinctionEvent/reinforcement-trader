{
 "cells": [
  {
   "cell_type": "code",
   "execution_count": 1,
   "metadata": {},
   "outputs": [],
   "source": [
    "import pandas as pd\n",
    "import numpy as np\n",
    "import sympy as sp"
   ]
  },
  {
   "cell_type": "markdown",
   "metadata": {},
   "source": [
    "## References"
   ]
  },
  {
   "cell_type": "markdown",
   "metadata": {},
   "source": [
    "J. Moody and M. Saffell, \"Learning to trade via direct reinforcement,\" in IEEE Transactions on Neural Networks, vol. 12, no. 4, pp. 875-889, July 2001, doi: 10.1109/72.935097."
   ]
  },
  {
   "cell_type": "markdown",
   "metadata": {},
   "source": [
    "## Overview"
   ]
  },
  {
   "cell_type": "markdown",
   "metadata": {},
   "source": [
    "Given a trading system model $F_{t}(\\theta)$, the goal is to adjust the parameters $\\theta$ in order to maximise $U_{t}$ (wealth).\n",
    "\n",
    "$$ \\frac{dU_{T}(\\theta)}{d\\theta} = \n",
    "\\sum \\limits _{t=1} ^ {T} \n",
    "\\frac{dU_{T}}{dR_{t}} \n",
    "\\{ \\frac{dR_{t}}{dF_{t}} \\frac{dF_{t}}{d\\theta} + \\frac{dR_{t}}{dF_{t-1}} \\frac{dF_{t-1}}{d\\theta}  \\}$$\n",
    "\n",
    "Where:\n",
    "* $R_{t}$ = returns  \n",
    "* $F_{t}$ = position  \n",
    "* $\\theta$ = model weights"
   ]
  },
  {
   "cell_type": "markdown",
   "metadata": {},
   "source": [
    "## Sterling Ratio wealth function"
   ]
  },
  {
   "cell_type": "markdown",
   "metadata": {},
   "source": [
    "The *Sterling Ratio* is used as a wealth function:\n",
    "\n",
    "$$ SterlingRatio = \\frac{Annualized Average Return}{Maximum Drawdown}$$\n",
    "  \n",
    "  \n",
    "This has been approximated to the Downside Deviation Ratio (DDR):\n",
    "\n",
    "$$ DDR_{T} = \\frac{Average(R_{t})}{DD_{T}} $$\n",
    "\n",
    "Where $$DD_{T} = (\\frac{1}{T}\\sum \\limits _{t=1} ^ {T} min \\{R_{t},0\\}^2)^\\frac{1}{2} $$"
   ]
  },
  {
   "cell_type": "code",
   "execution_count": 10,
   "metadata": {},
   "outputs": [
    {
     "data": {
      "text/plain": [
       "'Differential downside deviation ratio (Dt):'"
      ]
     },
     "metadata": {},
     "output_type": "display_data"
    },
    {
     "data": {
      "text/latex": [
       "$\\displaystyle \\frac{- 0.5 A_{t -1} rt^{2} + dd_{t -1} \\left(- 0.5 A_{t -1} + rt\\right)}{dd_{t -1}^{2}}$"
      ],
      "text/plain": [
       "(-0.5*A_t_-1*rt**2 + dd_t_-1*(-0.5*A_t_-1 + rt))/dd_t_-1**2"
      ]
     },
     "metadata": {},
     "output_type": "display_data"
    },
    {
     "data": {
      "text/plain": [
       "'Partial derivative of Dt with respect to Rt:'"
      ]
     },
     "metadata": {},
     "output_type": "display_data"
    },
    {
     "data": {
      "text/latex": [
       "$\\displaystyle \\frac{- 1.0 A_{t -1} rt + dd_{t -1}}{dd_{t -1}^{2}}$"
      ],
      "text/plain": [
       "(-1.0*A_t_-1*rt + dd_t_-1)/dd_t_-1**2"
      ]
     },
     "metadata": {},
     "output_type": "display_data"
    }
   ],
   "source": [
    "import sympy as sp\n",
    "\n",
    "dd_t_1, rt, A_t_1 = sp.symbols('dd_t_-1, rt, A_t_-1')\n",
    "Dt = (dd_t_1 * (rt - 0.5*A_t_1) - (0.5*A_t_1*rt**2)) / dd_t_1**2\n",
    "\n",
    "display('Differential downside deviation ratio (Dt):', Dt)\n",
    "\n",
    "dDdR = sp.diff(Dt, rt)\n",
    "display('Partial derivative of Dt with respect to Rt:', dDdR)"
   ]
  },
  {
   "cell_type": "markdown",
   "metadata": {},
   "source": [
    "Exponential moving average of returns:\n",
    "$$A_{t} = A_{t-1} + n(R_{t} - A_{t-1})$$"
   ]
  },
  {
   "cell_type": "code",
   "execution_count": 11,
   "metadata": {},
   "outputs": [],
   "source": [
    "def A(ret):\n",
    "    T = len(ret)\n",
    "    A = np.zeros(T)\n",
    "    \n",
    "    for t in range(NUM_RETURNS, T):\n",
    "        A[t] = A[t-1] + (N * (ret[t] - A[t-1]))\n",
    "        A[t] = np.nan_to_num(A[t])\n",
    "        \n",
    "    return A"
   ]
  },
  {
   "cell_type": "markdown",
   "metadata": {},
   "source": [
    "Squared Drawdown: \n",
    "$$DD_{t}^2 = DD_{t-1}^2 + n(min(R_{t},0)^2 - DD_{t-1}^2)$$"
   ]
  },
  {
   "cell_type": "code",
   "execution_count": 12,
   "metadata": {},
   "outputs": [],
   "source": [
    "def DD(ret):\n",
    "    T = len(ret)\n",
    "    DD = np.zeros(T)\n",
    "    for t in range(NUM_RETURNS, T):\n",
    "        DD[t] = DD[t-1] + (N * (min(ret[t],0)**2 - DD[t-1]))\n",
    "        DD[t] = np.nan_to_num(DD[t])\n",
    "        \n",
    "    return DD"
   ]
  },
  {
   "cell_type": "markdown",
   "metadata": {},
   "source": [
    "## Global params\n"
   ]
  },
  {
   "cell_type": "code",
   "execution_count": 13,
   "metadata": {},
   "outputs": [],
   "source": [
    "N = 1/100\n",
    "NUM_RETURNS = M = 15"
   ]
  },
  {
   "cell_type": "markdown",
   "metadata": {},
   "source": [
    "## Functions to calc positions, returns"
   ]
  },
  {
   "cell_type": "markdown",
   "metadata": {},
   "source": [
    "State takes the form: $[1, R_{t}, R_{t-1}, ..., R_{t-M}, F_{t-1}]$"
   ]
  },
  {
   "cell_type": "code",
   "execution_count": 14,
   "metadata": {},
   "outputs": [],
   "source": [
    "def positions(rets, weights):\n",
    "    '''\n",
    "    Apply weights to state to determine positisons\n",
    "    '''\n",
    "    \n",
    "    T = len(rets)\n",
    "    pos = np.zeros(T)\n",
    "    for t in range(M, T):\n",
    "        state = np.concatenate([ [1], ret[t - M:t], [pos[t-1]] ])\n",
    "        pos[t] = np.tanh(np.dot(weights, state))\n",
    "        \n",
    "    return pos"
   ]
  },
  {
   "cell_type": "code",
   "execution_count": 15,
   "metadata": {},
   "outputs": [],
   "source": [
    "def returns(positions, rets, fee):\n",
    "    '''\n",
    "    Calculate realised returns based on positions and fees\n",
    "    '''\n",
    "    T = len(rets)\n",
    "    rets = positions[0:T-1] * rets[1:T] - fee * np.abs(positions[1:T] - positions[0:T-1])\n",
    "    return np.concatenate([[0], rets])"
   ]
  },
  {
   "cell_type": "markdown",
   "metadata": {},
   "source": [
    "## Input data "
   ]
  },
  {
   "cell_type": "code",
   "execution_count": 16,
   "metadata": {},
   "outputs": [
    {
     "data": {
      "text/plain": [
       "(250,)"
      ]
     },
     "execution_count": 16,
     "metadata": {},
     "output_type": "execute_result"
    }
   ],
   "source": [
    "df = pd.read_csv('~/Downloads/coinbaseGBP.csv', names=['_dt', 'price', 'size'])\n",
    "df['dt'] = pd.to_datetime(df['_dt'],unit='s')\n",
    "df = df.set_index('dt').drop(columns=['_dt'])\n",
    "\n",
    "rets = df['price'].pct_change().values[1:][:250]\n",
    "rets.shape"
   ]
  },
  {
   "cell_type": "code",
   "execution_count": null,
   "metadata": {},
   "outputs": [],
   "source": []
  }
 ],
 "metadata": {
  "kernelspec": {
   "display_name": "Python 3",
   "language": "python",
   "name": "python3"
  },
  "language_info": {
   "codemirror_mode": {
    "name": "ipython",
    "version": 3
   },
   "file_extension": ".py",
   "mimetype": "text/x-python",
   "name": "python",
   "nbconvert_exporter": "python",
   "pygments_lexer": "ipython3",
   "version": "3.7.4"
  }
 },
 "nbformat": 4,
 "nbformat_minor": 4
}
