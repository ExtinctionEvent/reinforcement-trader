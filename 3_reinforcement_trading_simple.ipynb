{
 "cells": [
  {
   "cell_type": "code",
   "execution_count": 1,
   "metadata": {},
   "outputs": [],
   "source": [
    "import pandas as pd\n",
    "import numpy as np"
   ]
  },
  {
   "cell_type": "code",
   "execution_count": 2,
   "metadata": {},
   "outputs": [],
   "source": [
    "import sympy as sp"
   ]
  },
  {
   "cell_type": "code",
   "execution_count": 3,
   "metadata": {},
   "outputs": [
    {
     "name": "stderr",
     "output_type": "stream",
     "text": [
      "/home/m/anaconda3/lib/python3.7/site-packages/statsmodels/tools/_testing.py:19: FutureWarning: pandas.util.testing is deprecated. Use the functions in the public API at pandas.testing instead.\n",
      "  import pandas.util.testing as tm\n"
     ]
    }
   ],
   "source": [
    "import seaborn as sns"
   ]
  },
  {
   "cell_type": "code",
   "execution_count": 4,
   "metadata": {},
   "outputs": [],
   "source": [
    "from scipy import stats"
   ]
  },
  {
   "cell_type": "code",
   "execution_count": 5,
   "metadata": {},
   "outputs": [],
   "source": [
    "from numba import jit"
   ]
  },
  {
   "cell_type": "markdown",
   "metadata": {},
   "source": [
    "# Overview"
   ]
  },
  {
   "cell_type": "markdown",
   "metadata": {},
   "source": [
    "Given a trading system model $F_{t}(\\theta)$, the goal is to adjust the parameters $\\theta$ in order to maximise $U_{t}$ (wealth)."
   ]
  },
  {
   "cell_type": "markdown",
   "metadata": {},
   "source": [
    "# $$ \\frac{dU_{T}(\\theta)}{d\\theta} = \n",
    "\\sum \\limits _{t=1} ^ {T} \n",
    "\\frac{dU_{T}}{dR_{t}} \n",
    "\\{ \\frac{dR_{t}}{dF_{t}} \\frac{dF_{t}}{d\\theta} + \\frac{dR_{t}}{dF_{t-1}} \\frac{dF_{t-1}}{d\\theta}  \\}$$"
   ]
  },
  {
   "cell_type": "markdown",
   "metadata": {},
   "source": [
    "Where:\n",
    "* $U$ = wealth function (Sharpe ratio / Sterling ratio)\n",
    "* $R_{t}$ = realised returns \n",
    "* $r_{t}$ = asset returns\n",
    "* $F_{t}$ = position  \n",
    "* $\\theta$ = model weights\n",
    "* $\\delta$ = transaction costs\n",
    "* $\\mu$ = max position (multiplied by $F_{t}$ which goes from -1 to 1)"
   ]
  },
  {
   "cell_type": "markdown",
   "metadata": {},
   "source": [
    "#### References\n",
    "\n",
    "* J. Moody and M. Saffell, \"Learning to trade via direct reinforcement,\" in IEEE Transactions on Neural Networks, vol. 12, no. 4, pp. 875-889, July 2001, doi: 10.1109/72.935097.\n",
    "\n",
    "* https://teddykoker.com/2019/06/trading-with-reinforcement-learning-in-python-part-ii-application/\n",
    "* http://cs229.stanford.edu/proj2006/Molina-StockTradingWithRecurrentReinforcementLearning.pdf"
   ]
  },
  {
   "cell_type": "markdown",
   "metadata": {},
   "source": [
    "#### Load derivative functions from standalone notebook"
   ]
  },
  {
   "cell_type": "code",
   "execution_count": 6,
   "metadata": {},
   "outputs": [],
   "source": [
    "%run 3_reinforcement_trading_simple_derivs.ipynb"
   ]
  },
  {
   "cell_type": "markdown",
   "metadata": {},
   "source": [
    "-----"
   ]
  },
  {
   "cell_type": "code",
   "execution_count": 7,
   "metadata": {},
   "outputs": [],
   "source": [
    "N = 1/100\n",
    "NUM_RETURNS = M = 8"
   ]
  },
  {
   "cell_type": "markdown",
   "metadata": {},
   "source": [
    "## Calculate positions based on $tanh(\\theta \\cdot state)$"
   ]
  },
  {
   "cell_type": "markdown",
   "metadata": {},
   "source": [
    "State takes the form: $[1, R_{t}, R_{t-1}, ..., R_{t-M}, F_{t-1}]$ "
   ]
  },
  {
   "cell_type": "code",
   "execution_count": 8,
   "metadata": {},
   "outputs": [],
   "source": [
    "def positions(r, theta):\n",
    "    '''\n",
    "    Apply weights to state to determine positisons\n",
    "    '''\n",
    "    \n",
    "    T = len(r)\n",
    "    Ft = np.zeros(T)\n",
    "    for t in range(M, T):\n",
    "        state = np.concatenate([ [1], r[t - M:t], [Ft[t-1]] ])\n",
    "        Ft[t] = np.tanh(np.dot(theta, state))\n",
    "        \n",
    "    return Ft"
   ]
  },
  {
   "cell_type": "code",
   "execution_count": 9,
   "metadata": {},
   "outputs": [],
   "source": [
    "def returns(Ft, r, delta):\n",
    "    '''\n",
    "    Calculate realised returns based on positions and fees\n",
    "    '''\n",
    "    T = len(r)\n",
    "    R = (Ft[0:T-1] * r[1:T]) - delta * (np.abs(Ft[1:T] - Ft[0:T-1]))\n",
    "    return np.concatenate((np.array([0]), R))"
   ]
  },
  {
   "cell_type": "markdown",
   "metadata": {},
   "source": [
    "-----"
   ]
  },
  {
   "cell_type": "code",
   "execution_count": 10,
   "metadata": {},
   "outputs": [],
   "source": [
    "def gradient(rets, theta, delta):\n",
    "    Ft = positions(rets, theta) \n",
    "    R = returns(Ft, rets, delta) \n",
    "   \n",
    "    # I don't think i need to calc this for all time here, \n",
    "    # just N where n = (1/N)\n",
    "    A = get_A(R)\n",
    "    DD2 = get_DD2(R)\n",
    "    \n",
    "    return _gradient(rets, theta, R, Ft, A, DD2, delta), DDR(R)\n",
    "    \n",
    "def _gradient(rets, theta, R, Ft, A, DD2, delta):\n",
    "    T = len(rets)\n",
    "    grad = np.zeros(M + 2)\n",
    "    dFtdTheta_prev = np.zeros(M + 2)\n",
    "    \n",
    "    for t in range(M, T):\n",
    "        state = np.concatenate( (np.array([1]), rets[t - M:t], np.array([Ft[t-1]]) ))\n",
    "        \n",
    "        # Derivative functions are defined in 3_reinforcement_trading_simple_derivs.ipynb\n",
    "        dRdFt = get_dRdFt(delta, Ft, t)\n",
    "\n",
    "        dFtdTheta = get_dFtdTheta(Ft, t, state, theta, dFtdTheta_prev)\n",
    "        dFtdTheta_prev = dFtdTheta\n",
    "        \n",
    "        dRdFtp = get_dRdFtp(rets, delta, Ft, t)\n",
    "\n",
    "        dUdR = get_dUdR(A, t, R, DD2)\n",
    "        \n",
    "        grad_delta = dUdR * (dRdFt*dFtdTheta) + (dRdFtp*dFtdTheta_prev)\n",
    "        grad = grad + np.nan_to_num(grad_delta)\n",
    "                \n",
    "    # We want to maximize this function, so invert for descent\n",
    "    return grad * -1"
   ]
  },
  {
   "cell_type": "markdown",
   "metadata": {},
   "source": [
    "## Main"
   ]
  },
  {
   "cell_type": "code",
   "execution_count": 11,
   "metadata": {},
   "outputs": [
    {
     "data": {
      "text/plain": [
       "'2019-01-07 03:38:00 -> 2019-01-07 22:05:22'"
      ]
     },
     "metadata": {},
     "output_type": "display_data"
    }
   ],
   "source": [
    "df = pd.read_csv('~/Downloads/coinbaseGBP.csv', \n",
    "             names=['_dt', 'price', 'size'])\n",
    "\n",
    "df['dt'] = pd.to_datetime(df['_dt'],unit='s')\n",
    "df = df.set_index('dt').drop(columns=['_dt'])\n",
    "\n",
    "df['ret'] = np.log(df.price) - np.log(df.price.shift(1))\n",
    "\n",
    "df = df.tail(5000)\n",
    "\n",
    "display('{} -> {}'.format(df.index[0], df.index[-1]))\n",
    "\n",
    "# TODO: Rolling Z-Score\n",
    "rets_z = stats.zscore(df.ret.values)\n",
    "rets = np.tanh(rets_z/3)"
   ]
  },
  {
   "cell_type": "code",
   "execution_count": 12,
   "metadata": {},
   "outputs": [],
   "source": [
    "epochs = 500\n",
    "lr = 0.005\n",
    "best_weights = np.zeros(M+2)\n",
    "delta = 0.02"
   ]
  },
  {
   "cell_type": "markdown",
   "metadata": {},
   "source": [
    "#### Xavier weights initialization\n",
    "\n",
    "https://towardsdatascience.com/weight-initialization-techniques-in-neural-networks-26c649eb3b78\n"
   ]
  },
  {
   "cell_type": "code",
   "execution_count": 13,
   "metadata": {},
   "outputs": [],
   "source": [
    "def xavier_weights(n):\n",
    "    return (np.random.randn(1, n) * np.sqrt(1/(n-1)))[0]"
   ]
  },
  {
   "cell_type": "code",
   "execution_count": 14,
   "metadata": {},
   "outputs": [
    {
     "data": {
      "text/plain": [
       "array([-0.40695772,  0.44910547, -0.02910744,  0.15717381, -0.06989109,\n",
       "       -0.05954522,  0.01872871, -0.27328491, -0.64097474,  0.27602926])"
      ]
     },
     "execution_count": 14,
     "metadata": {},
     "output_type": "execute_result"
    }
   ],
   "source": [
    "if False:\n",
    "    theta = np.concatenate(([0], xavier_weights(M+1)))\n",
    "else:\n",
    "    theta = xavier_weights(M+2)\n",
    "\n",
    "theta"
   ]
  },
  {
   "cell_type": "code",
   "execution_count": 15,
   "metadata": {},
   "outputs": [
    {
     "name": "stderr",
     "output_type": "stream",
     "text": [
      "/home/m/anaconda3/lib/python3.7/site-packages/ipykernel_launcher.py:2: RuntimeWarning: invalid value encountered in double_scalars\n",
      "  \n"
     ]
    },
    {
     "name": "stdout",
     "output_type": "stream",
     "text": [
      "CPU times: user 2min 48s, sys: 98.4 ms, total: 2min 48s\n",
      "Wall time: 2min 48s\n"
     ]
    }
   ],
   "source": [
    "%%time\n",
    "\n",
    "loss_history = []\n",
    "for i in range(0, epochs):\n",
    "    g, loss = gradient(rets, theta, delta)\n",
    "    theta = theta - (lr * g)\n",
    "    \n",
    "    loss_history.append(loss)\n",
    "    if loss == max(loss_history):\n",
    "        best_theta = theta\n",
    "        \n",
    "theta = best_theta"
   ]
  },
  {
   "cell_type": "markdown",
   "metadata": {},
   "source": [
    "### Loss"
   ]
  },
  {
   "cell_type": "code",
   "execution_count": 16,
   "metadata": {},
   "outputs": [
    {
     "data": {
      "text/plain": [
       "<AxesSubplot:>"
      ]
     },
     "execution_count": 16,
     "metadata": {},
     "output_type": "execute_result"
    },
    {
     "data": {
      "image/png": "[encoded data removed]",
      "text/plain": [
       "<Figure size 432x288 with 1 Axes>"
      ]
     },
     "metadata": {
      "needs_background": "light"
     },
     "output_type": "display_data"
    }
   ],
   "source": [
    "sns.lineplot(range(0, len(loss_history)), loss_history)"
   ]
  },
  {
   "cell_type": "markdown",
   "metadata": {},
   "source": [
    "### Returns"
   ]
  },
  {
   "cell_type": "code",
   "execution_count": 17,
   "metadata": {
    "scrolled": true
   },
   "outputs": [
    {
     "data": {
      "text/plain": [
       "<AxesSubplot:>"
      ]
     },
     "execution_count": 17,
     "metadata": {},
     "output_type": "execute_result"
    },
    {
     "data": {
      "image/png": "[encoded data removed]",
      "text/plain": [
       "<Figure size 432x288 with 1 Axes>"
      ]
     },
     "metadata": {
      "needs_background": "light"
     },
     "output_type": "display_data"
    }
   ],
   "source": [
    "Ft = positions(rets, theta)\n",
    "\n",
    "# TODO: These are zscores, convert back to normal returns\n",
    "realised_returns = returns(Ft, rets, delta)\n",
    "pd.Series(realised_returns).cumsum().plot()"
   ]
  },
  {
   "cell_type": "markdown",
   "metadata": {},
   "source": [
    "### Positions"
   ]
  },
  {
   "cell_type": "code",
   "execution_count": 18,
   "metadata": {},
   "outputs": [
    {
     "data": {
      "text/plain": [
       "<AxesSubplot:>"
      ]
     },
     "execution_count": 18,
     "metadata": {},
     "output_type": "execute_result"
    },
    {
     "data": {
      "image/png": "[encoded data removed]",
      "text/plain": [
       "<Figure size 432x288 with 1 Axes>"
      ]
     },
     "metadata": {
      "needs_background": "light"
     },
     "output_type": "display_data"
    }
   ],
   "source": [
    "sns.distplot(Ft)"
   ]
  },
  {
   "cell_type": "code",
   "execution_count": 19,
   "metadata": {},
   "outputs": [
    {
     "data": {
      "text/plain": [
       "array([-4.23986063e+04, -6.22462878e+01, -5.41560348e+01, -6.29495747e+01,\n",
       "       -5.71108131e+01, -3.12238212e+01, -5.68414652e+01, -1.33383205e+01,\n",
       "        4.76089622e+03,  2.10589581e+04])"
      ]
     },
     "execution_count": 19,
     "metadata": {},
     "output_type": "execute_result"
    }
   ],
   "source": [
    "# Do i want to allow weights more than 1/-1?\n",
    "# Is it only taking short positions as the bias weight is so large & negative?\n",
    "theta"
   ]
  },
  {
   "cell_type": "code",
   "execution_count": null,
   "metadata": {},
   "outputs": [],
   "source": []
  },
  {
   "cell_type": "code",
   "execution_count": null,
   "metadata": {},
   "outputs": [],
   "source": []
  }
 ],
 "metadata": {
  "kernelspec": {
   "display_name": "Python 3",
   "language": "python",
   "name": "python3"
  },
  "language_info": {
   "codemirror_mode": {
    "name": "ipython",
    "version": 3
   },
   "file_extension": ".py",
   "mimetype": "text/x-python",
   "name": "python",
   "nbconvert_exporter": "python",
   "pygments_lexer": "ipython3",
   "version": "3.7.4"
  }
 },
 "nbformat": 4,
 "nbformat_minor": 4
}
