{
 "cells": [
  {
   "cell_type": "markdown",
   "metadata": {},
   "source": [
    "# Linear Regression via Gradient Descent"
   ]
  },
  {
   "cell_type": "markdown",
   "metadata": {},
   "source": [
    "## Generate line with noise"
   ]
  },
  {
   "cell_type": "code",
   "execution_count": 1,
   "metadata": {
    "collapsed": false
   },
   "outputs": [],
   "source": [
    "import numpy as np\n",
    "import seaborn as sns\n",
    "import matplotlib.pylab as plt\n",
    "%matplotlib inline"
   ]
  },
  {
   "cell_type": "code",
   "execution_count": 2,
   "metadata": {
    "collapsed": true
   },
   "outputs": [],
   "source": [
    "x = np.linspace(start=3, stop=10, num=100)\n",
    "y = x + np.random.normal(loc=0, scale=1.5, size=100)"
   ]
  },
  {
   "cell_type": "code",
   "execution_count": 3,
   "metadata": {
    "collapsed": false
   },
   "outputs": [
    {
     "data": {
      "text/plain": [
       "<matplotlib.collections.PathCollection at 0x111f7a240>"
      ]
     },
     "execution_count": 3,
     "metadata": {},
     "output_type": "execute_result"
    },
    {
     "data": {
      "image/png": "[encoded data removed]",
      "text/plain": [
       "<matplotlib.figure.Figure at 0x111f7a5c0>"
      ]
     },
     "metadata": {},
     "output_type": "display_data"
    }
   ],
   "source": [
    "plt.scatter(x, y)"
   ]
  },
  {
   "cell_type": "markdown",
   "metadata": {},
   "source": [
    "## Gradient Descent"
   ]
  },
  {
   "cell_type": "markdown",
   "metadata": {},
   "source": [
    "Original Mean Squared Error(MSE) formula:  \n",
    "$$MSE = \\frac{1}{n} \\sum \\limits _{i=1} ^ {n} (y_{i} - \\hat y_{i})^2$$\n",
    "\n",
    "Substitute estimate ($\\hat y_{i}$) with the equation of the regression line:  \n",
    "$$f(m,c)= \\frac{1}{n} \\sum \\limits _{i=1} ^ {n} (y_{i} - (mx_{i}+c))^2$$"
   ]
  },
  {
   "cell_type": "markdown",
   "metadata": {},
   "source": [
    "### Partial derivatives:"
   ]
  },
  {
   "cell_type": "markdown",
   "metadata": {},
   "source": [
    "Derivative of *f* with respect to slope (m):  \n",
    "$$\\frac{\\partial f}{\\partial m} = \\frac{1}{n} \\sum \\limits _{i=1} ^ {n} -2 x_{i}(y_{i} - (mx_{i}+c))$$"
   ]
  },
  {
   "cell_type": "code",
   "execution_count": 4,
   "metadata": {
    "collapsed": true
   },
   "outputs": [],
   "source": [
    "D_m = lambda x, err: -2 * x.dot(err).sum() / len(x)"
   ]
  },
  {
   "cell_type": "markdown",
   "metadata": {},
   "source": [
    "Derivative of *f* with respect to intercept (c):  \n",
    "$$\\frac{\\partial f}{\\partial c} = \\frac{1}{n} \\sum \\limits _{i=1} ^ {n} -2(y_{i} - (mx_{i}+c))$$"
   ]
  },
  {
   "cell_type": "code",
   "execution_count": 5,
   "metadata": {
    "collapsed": true
   },
   "outputs": [],
   "source": [
    "D_c = lambda err: -2 * err.sum() / len(x)"
   ]
  },
  {
   "cell_type": "code",
   "execution_count": 6,
   "metadata": {
    "collapsed": true
   },
   "outputs": [],
   "source": [
    "init_rand_param = lambda: np.random.normal(loc=0, scale=2, size=1)[0]-1"
   ]
  },
  {
   "cell_type": "code",
   "execution_count": 122,
   "metadata": {
    "collapsed": true
   },
   "outputs": [],
   "source": [
    "def gradient_descent(x, y, lr=0.0005, epochs=100):\n",
    "    loss = []\n",
    "    m, c = init_rand_param(), init_rand_param()\n",
    "\n",
    "    for i in range(epochs):\n",
    "        y_hat = m*x + c\n",
    "        err = y - y_hat\n",
    "\n",
    "        mse = 1/len(x) * (err**2).sum()\n",
    "        loss.append(mse)\n",
    "\n",
    "        slope_grad = D_m(x, err)\n",
    "        intercept_grad = D_c(err)\n",
    "\n",
    "        m -= lr * slope_grad\n",
    "        c -= lr * intercept_grad    \n",
    "        \n",
    "    return m, c, loss"
   ]
  },
  {
   "cell_type": "markdown",
   "metadata": {},
   "source": [
    "### Learned slope (m) and intercept (c)"
   ]
  },
  {
   "cell_type": "code",
   "execution_count": 123,
   "metadata": {
    "collapsed": false
   },
   "outputs": [
    {
     "name": "stdout",
     "output_type": "stream",
     "text": [
      "1000 loops, best of 3: 1.42 ms per loop\n"
     ]
    }
   ],
   "source": [
    "%%timeit\n",
    "\n",
    "gradient_descent(x, y)"
   ]
  },
  {
   "cell_type": "code",
   "execution_count": 124,
   "metadata": {
    "collapsed": false
   },
   "outputs": [
    {
     "data": {
      "text/plain": [
       "(0.97320686889544961, 0.086008925230365907)"
      ]
     },
     "execution_count": 124,
     "metadata": {},
     "output_type": "execute_result"
    }
   ],
   "source": [
    "m, c, loss_history = gradient_descent(x, y)\n",
    "m,c"
   ]
  },
  {
   "cell_type": "markdown",
   "metadata": {},
   "source": [
    "### Visualise loss"
   ]
  },
  {
   "cell_type": "code",
   "execution_count": 125,
   "metadata": {
    "collapsed": false
   },
   "outputs": [
    {
     "data": {
      "text/plain": [
       "[<matplotlib.lines.Line2D at 0x1209bdef0>]"
      ]
     },
     "execution_count": 125,
     "metadata": {},
     "output_type": "execute_result"
    },
    {
     "data": {
      "image/png": "[encoded data removed]",
      "text/plain": [
       "<matplotlib.figure.Figure at 0x120983cf8>"
      ]
     },
     "metadata": {},
     "output_type": "display_data"
    }
   ],
   "source": [
    "plt.plot(range(0, len(loss_history)), loss_history)"
   ]
  },
  {
   "cell_type": "markdown",
   "metadata": {},
   "source": [
    "# Compare to statsmodel OLS"
   ]
  },
  {
   "cell_type": "code",
   "execution_count": 126,
   "metadata": {
    "collapsed": true
   },
   "outputs": [],
   "source": [
    "import statsmodels.api as sm"
   ]
  },
  {
   "cell_type": "code",
   "execution_count": 127,
   "metadata": {
    "collapsed": true
   },
   "outputs": [],
   "source": [
    "exog = sm.add_constant(y, prepend=False)\n",
    "model = sm.OLS(x, exog)\n",
    "result = model.fit()"
   ]
  },
  {
   "cell_type": "code",
   "execution_count": 128,
   "metadata": {
    "collapsed": false
   },
   "outputs": [
    {
     "data": {
      "text/html": [
       "<table class=\"simpletable\">\n",
       "<caption>OLS Regression Results</caption>\n",
       "<tr>\n",
       "  <th>Dep. Variable:</th>            <td>y</td>        <th>  R-squared:         </th> <td>   0.627</td>\n",
       "</tr>\n",
       "<tr>\n",
       "  <th>Model:</th>                   <td>OLS</td>       <th>  Adj. R-squared:    </th> <td>   0.623</td>\n",
       "</tr>\n",
       "<tr>\n",
       "  <th>Method:</th>             <td>Least Squares</td>  <th>  F-statistic:       </th> <td>   164.8</td>\n",
       "</tr>\n",
       "<tr>\n",
       "  <th>Date:</th>             <td>Fri, 27 Nov 2020</td> <th>  Prob (F-statistic):</th> <td>1.03e-22</td>\n",
       "</tr>\n",
       "<tr>\n",
       "  <th>Time:</th>                 <td>13:38:36</td>     <th>  Log-Likelihood:    </th> <td> -163.92</td>\n",
       "</tr>\n",
       "<tr>\n",
       "  <th>No. Observations:</th>      <td>   100</td>      <th>  AIC:               </th> <td>   331.8</td>\n",
       "</tr>\n",
       "<tr>\n",
       "  <th>Df Residuals:</th>          <td>    98</td>      <th>  BIC:               </th> <td>   337.0</td>\n",
       "</tr>\n",
       "<tr>\n",
       "  <th>Df Model:</th>              <td>     1</td>      <th>                     </th>     <td> </td>   \n",
       "</tr>\n",
       "<tr>\n",
       "  <th>Covariance Type:</th>      <td>nonrobust</td>    <th>                     </th>     <td> </td>   \n",
       "</tr>\n",
       "</table>\n",
       "<table class=\"simpletable\">\n",
       "<tr>\n",
       "    <td></td>       <th>coef</th>     <th>std err</th>      <th>t</th>      <th>P>|t|</th>  <th>[0.025</th>    <th>0.975]</th>  \n",
       "</tr>\n",
       "<tr>\n",
       "  <th>x1</th>    <td>    0.6967</td> <td>    0.054</td> <td>   12.838</td> <td> 0.000</td> <td>    0.589</td> <td>    0.804</td>\n",
       "</tr>\n",
       "<tr>\n",
       "  <th>const</th> <td>    1.8914</td> <td>    0.380</td> <td>    4.972</td> <td> 0.000</td> <td>    1.137</td> <td>    2.646</td>\n",
       "</tr>\n",
       "</table>\n",
       "<table class=\"simpletable\">\n",
       "<tr>\n",
       "  <th>Omnibus:</th>       <td> 1.283</td> <th>  Durbin-Watson:     </th> <td>   1.189</td>\n",
       "</tr>\n",
       "<tr>\n",
       "  <th>Prob(Omnibus):</th> <td> 0.526</td> <th>  Jarque-Bera (JB):  </th> <td>   1.363</td>\n",
       "</tr>\n",
       "<tr>\n",
       "  <th>Skew:</th>          <td> 0.237</td> <th>  Prob(JB):          </th> <td>   0.506</td>\n",
       "</tr>\n",
       "<tr>\n",
       "  <th>Kurtosis:</th>      <td> 2.680</td> <th>  Cond. No.          </th> <td>    21.6</td>\n",
       "</tr>\n",
       "</table>"
      ],
      "text/plain": [
       "<class 'statsmodels.iolib.summary.Summary'>\n",
       "\"\"\"\n",
       "                            OLS Regression Results                            \n",
       "==============================================================================\n",
       "Dep. Variable:                      y   R-squared:                       0.627\n",
       "Model:                            OLS   Adj. R-squared:                  0.623\n",
       "Method:                 Least Squares   F-statistic:                     164.8\n",
       "Date:                Fri, 27 Nov 2020   Prob (F-statistic):           1.03e-22\n",
       "Time:                        13:38:36   Log-Likelihood:                -163.92\n",
       "No. Observations:                 100   AIC:                             331.8\n",
       "Df Residuals:                      98   BIC:                             337.0\n",
       "Df Model:                           1                                         \n",
       "Covariance Type:            nonrobust                                         \n",
       "==============================================================================\n",
       "                 coef    std err          t      P>|t|      [0.025      0.975]\n",
       "------------------------------------------------------------------------------\n",
       "x1             0.6967      0.054     12.838      0.000       0.589       0.804\n",
       "const          1.8914      0.380      4.972      0.000       1.137       2.646\n",
       "==============================================================================\n",
       "Omnibus:                        1.283   Durbin-Watson:                   1.189\n",
       "Prob(Omnibus):                  0.526   Jarque-Bera (JB):                1.363\n",
       "Skew:                           0.237   Prob(JB):                        0.506\n",
       "Kurtosis:                       2.680   Cond. No.                         21.6\n",
       "==============================================================================\n",
       "\n",
       "Warnings:\n",
       "[1] Standard Errors assume that the covariance matrix of the errors is correctly specified.\n",
       "\"\"\""
      ]
     },
     "execution_count": 128,
     "metadata": {},
     "output_type": "execute_result"
    }
   ],
   "source": [
    "result.summary()"
   ]
  },
  {
   "cell_type": "markdown",
   "metadata": {},
   "source": [
    "# Visualise orig and learned lines"
   ]
  },
  {
   "cell_type": "code",
   "execution_count": 129,
   "metadata": {
    "collapsed": false
   },
   "outputs": [
    {
     "name": "stdout",
     "output_type": "stream",
     "text": [
      "Learned MSE: 2.0701461719008045\n"
     ]
    }
   ],
   "source": [
    "learned_params = m*x+c\n",
    "err = y - learned_params\n",
    "mse = 1/len(x) * (err**2).sum()\n",
    "print('Learned MSE: {}'.format(mse))"
   ]
  },
  {
   "cell_type": "code",
   "execution_count": 130,
   "metadata": {
    "collapsed": false
   },
   "outputs": [
    {
     "name": "stdout",
     "output_type": "stream",
     "text": [
      "Statsmodel OLS MSE: 2.216854227178135\n"
     ]
    }
   ],
   "source": [
    "ols_params = result.params[0]*x+result.params[1]\n",
    "err = y - ols_params\n",
    "mse = 1/len(x) * (err**2).sum()\n",
    "print('Statsmodel OLS MSE: {}'.format(mse))"
   ]
  },
  {
   "cell_type": "code",
   "execution_count": 131,
   "metadata": {
    "collapsed": false,
    "scrolled": true
   },
   "outputs": [
    {
     "data": {
      "image/png": "[encoded data removed]",
      "text/plain": [
       "<matplotlib.figure.Figure at 0x1206d9f28>"
      ]
     },
     "metadata": {},
     "output_type": "display_data"
    }
   ],
   "source": [
    "plt.scatter(x, y, alpha=0.3)\n",
    "\n",
    "plt.plot(x, x, label='orig')\n",
    "plt.plot(x, learned_params, label='mse_grad_desc')\n",
    "plt.plot(x, ols_params, label='statsmodels')\n",
    "\n",
    "plt.legend()\n",
    "plt.show()"
   ]
  },
  {
   "cell_type": "markdown",
   "metadata": {},
   "source": [
    "# Compare to Pytorch"
   ]
  },
  {
   "cell_type": "code",
   "execution_count": 132,
   "metadata": {
    "collapsed": true
   },
   "outputs": [],
   "source": [
    "import torch "
   ]
  },
  {
   "cell_type": "code",
   "execution_count": 133,
   "metadata": {
    "collapsed": true
   },
   "outputs": [],
   "source": [
    "# Create torch tensors\n",
    "x_ = torch.tensor(x).float()\n",
    "y_ = torch.tensor(y).float()"
   ]
  },
  {
   "cell_type": "code",
   "execution_count": 134,
   "metadata": {
    "collapsed": false
   },
   "outputs": [],
   "source": [
    "# define the linear model\n",
    "def model(x, a, b):\n",
    "    return a*x + b"
   ]
  },
  {
   "cell_type": "code",
   "execution_count": 135,
   "metadata": {
    "collapsed": true
   },
   "outputs": [],
   "source": [
    "# define the loss function\n",
    "def mse_loss(y_pred , y_):\n",
    "    squared_error = (y_ - y_pred)**2\n",
    "    return squared_error.mean()"
   ]
  },
  {
   "cell_type": "code",
   "execution_count": 136,
   "metadata": {
    "collapsed": true
   },
   "outputs": [],
   "source": [
    "# define starting values for a and b (requires grad is set to False by defult)\n",
    "params = torch.tensor([0.0, 0.0], requires_grad=True)"
   ]
  },
  {
   "cell_type": "code",
   "execution_count": 137,
   "metadata": {
    "collapsed": false
   },
   "outputs": [],
   "source": [
    "# does it work?\n",
    "y_pred = model(x_, params[0], params[1])"
   ]
  },
  {
   "cell_type": "code",
   "execution_count": 138,
   "metadata": {
    "collapsed": false
   },
   "outputs": [],
   "source": [
    "loss = mse_loss(y_,y_pred)"
   ]
  },
  {
   "cell_type": "code",
   "execution_count": 139,
   "metadata": {
    "collapsed": false
   },
   "outputs": [
    {
     "data": {
      "text/plain": [
       "tensor(49.1346)"
      ]
     },
     "execution_count": 139,
     "metadata": {},
     "output_type": "execute_result"
    }
   ],
   "source": [
    "loss"
   ]
  },
  {
   "cell_type": "code",
   "execution_count": 140,
   "metadata": {
    "collapsed": false
   },
   "outputs": [
    {
     "data": {
      "text/plain": [
       "True"
      ]
     },
     "execution_count": 140,
     "metadata": {},
     "output_type": "execute_result"
    }
   ],
   "source": [
    "# Params dont yet have a gradient attached\n",
    "params.grad is None"
   ]
  },
  {
   "cell_type": "code",
   "execution_count": 141,
   "metadata": {
    "collapsed": true
   },
   "outputs": [],
   "source": [
    "# Call loss.backward to calculate the gradients\n",
    "loss.backward()"
   ]
  },
  {
   "cell_type": "code",
   "execution_count": 142,
   "metadata": {
    "collapsed": false
   },
   "outputs": [
    {
     "data": {
      "text/plain": [
       "tensor([-93.4889, -13.2292])"
      ]
     },
     "execution_count": 142,
     "metadata": {},
     "output_type": "execute_result"
    }
   ],
   "source": [
    "params.grad"
   ]
  },
  {
   "cell_type": "code",
   "execution_count": 143,
   "metadata": {
    "collapsed": true
   },
   "outputs": [],
   "source": [
    "# Pacakage this into a function that loops\n",
    "def training_loop(n_epochs, learning_rate, params, x, y):\n",
    "    for epoch in range(1, n_epochs + 1):\n",
    "        if params.grad is not None: # reset the gradients each loop (otherwise they accumulate)\n",
    "            params.grad.zero_()\n",
    "            \n",
    "        y_pred = model(x, params[0], params[1]) # create the predictions\n",
    "        loss = mse_loss(y_pred, y)   # calculate the loss\n",
    "        loss.backward()  # calulate the gradients\n",
    "        \n",
    "        with torch.no_grad(): # make sure that the following command (to update the params) is not part of ...\n",
    "            params -= learning_rate * params.grad # computational graph\n",
    "            \n",
    "        if epoch % 20 == 0:\n",
    "            print('Epoch %d, Loss %f' % (epoch, float(loss)))\n",
    "    return params"
   ]
  },
  {
   "cell_type": "code",
   "execution_count": 144,
   "metadata": {
    "collapsed": false
   },
   "outputs": [
    {
     "name": "stdout",
     "output_type": "stream",
     "text": [
      "Epoch 20, Loss 34.851219\n",
      "Epoch 40, Loss 24.469334\n",
      "Epoch 60, Loss 17.372578\n",
      "Epoch 80, Loss 12.521445\n",
      "Epoch 100, Loss 9.205349\n",
      "Epoch 120, Loss 6.938550\n",
      "Epoch 140, Loss 5.389028\n",
      "Epoch 160, Loss 4.329810\n",
      "Epoch 180, Loss 3.605753\n",
      "Epoch 200, Loss 3.110803\n",
      "Epoch 220, Loss 2.772461\n",
      "Epoch 240, Loss 2.541174\n",
      "Epoch 260, Loss 2.383065\n",
      "Epoch 280, Loss 2.274978\n",
      "Epoch 300, Loss 2.201086\n",
      "Epoch 320, Loss 2.150566\n",
      "Epoch 340, Loss 2.116026\n",
      "Epoch 360, Loss 2.092408\n",
      "Epoch 380, Loss 2.076254\n",
      "Epoch 400, Loss 2.065205\n",
      "Epoch 420, Loss 2.057644\n",
      "Epoch 440, Loss 2.052468\n",
      "Epoch 460, Loss 2.048923\n",
      "Epoch 480, Loss 2.046491\n",
      "Epoch 500, Loss 2.044821\n"
     ]
    }
   ],
   "source": [
    "pytorch_params = training_loop(500, 0.0001, params, x_, y_)"
   ]
  },
  {
   "cell_type": "code",
   "execution_count": 145,
   "metadata": {
    "collapsed": false
   },
   "outputs": [],
   "source": [
    "pytorch_params_ = pytorch_params.detach().numpy()"
   ]
  },
  {
   "cell_type": "code",
   "execution_count": 146,
   "metadata": {
    "collapsed": false
   },
   "outputs": [
    {
     "name": "stdout",
     "output_type": "stream",
     "text": [
      "Pytorch grad-desc MSE: 2.044753263308716\n"
     ]
    }
   ],
   "source": [
    "pytorch_vals = pytorch_params_[0]*x+pytorch_params_[1]\n",
    "err = y - pytorch_vals\n",
    "mse = 1/len(x) * (err**2).sum()\n",
    "print('Pytorch grad-desc MSE: {}'.format(mse))"
   ]
  },
  {
   "cell_type": "code",
   "execution_count": 147,
   "metadata": {
    "collapsed": false
   },
   "outputs": [
    {
     "data": {
      "image/png": "[encoded data removed]",
      "text/plain": [
       "<matplotlib.figure.Figure at 0x1206a65c0>"
      ]
     },
     "metadata": {},
     "output_type": "display_data"
    }
   ],
   "source": [
    "plt.scatter(x, y, alpha=0.3)\n",
    "\n",
    "plt.plot(x, x, label='orig')\n",
    "plt.plot(x, learned_params, label='mse_grad_desc')\n",
    "plt.plot(x, ols_params, label='statsmodels')\n",
    "plt.plot(x, pytorch_vals, label ='pythorch')\n",
    "\n",
    "plt.legend()\n",
    "plt.show()"
   ]
  },
  {
   "cell_type": "markdown",
   "metadata": {},
   "source": [
    "### We can go even better and use a built in optimiser rather than do the weight update ourselves"
   ]
  },
  {
   "cell_type": "code",
   "execution_count": 148,
   "metadata": {
    "collapsed": false
   },
   "outputs": [
    {
     "data": {
      "text/plain": [
       "['ASGD',\n",
       " 'Adadelta',\n",
       " 'Adagrad',\n",
       " 'Adam',\n",
       " 'Adamax',\n",
       " 'LBFGS',\n",
       " 'Optimizer',\n",
       " 'RMSprop',\n",
       " 'Rprop',\n",
       " 'SGD',\n",
       " 'SparseAdam',\n",
       " '__builtins__',\n",
       " '__cached__',\n",
       " '__doc__',\n",
       " '__file__',\n",
       " '__loader__',\n",
       " '__name__',\n",
       " '__package__',\n",
       " '__path__',\n",
       " '__spec__',\n",
       " 'lr_scheduler']"
      ]
     },
     "execution_count": 148,
     "metadata": {},
     "output_type": "execute_result"
    }
   ],
   "source": [
    "# Available optimisers are.\n",
    "dir(torch.optim)"
   ]
  },
  {
   "cell_type": "code",
   "execution_count": 149,
   "metadata": {
    "collapsed": true
   },
   "outputs": [],
   "source": [
    "# define starting values for a and b (requires grad is set to False by defult)\n",
    "params = torch.tensor([0.0, 0.0], requires_grad=True)"
   ]
  },
  {
   "cell_type": "code",
   "execution_count": 150,
   "metadata": {
    "collapsed": true
   },
   "outputs": [],
   "source": [
    "# set up the optimiser, SGD in this case, but use Adam as it can manage variably scaled grads \n",
    "# (each param gets an independent learning rate) amd has momentum, i.e. takes into account the previous grad steps\n",
    "learning_rate = 0.0001\n",
    "optim = torch.optim.SGD([params], lr=learning_rate)\n",
    "\n",
    "# we can also use the inbuilt loss functions in pytorch\n",
    "mse_loss = torch.nn.MSELoss()"
   ]
  },
  {
   "cell_type": "code",
   "execution_count": 151,
   "metadata": {
    "collapsed": true
   },
   "outputs": [],
   "source": [
    "# Package this into a function that loops\n",
    "def training_loop(n_epochs, optimiser, params, x, y):\n",
    "    for epoch in range(1, n_epochs + 1):\n",
    "        optimiser.zero_grad() # reset the gradients each loop (otherwise they accumulate)\n",
    "            \n",
    "        y_pred = model(x, params[0], params[1]) # create the predictions\n",
    "        loss = mse_loss(y_pred, y)   # calculate the loss\n",
    "        loss.backward()  # calulate the gradients\n",
    "        \n",
    "        optimiser.step() # updates the parameters in one step\n",
    "            \n",
    "        if epoch % 20 == 0:\n",
    "            print('Epoch %d, Loss %f' % (epoch, float(loss)))\n",
    "    return params"
   ]
  },
  {
   "cell_type": "code",
   "execution_count": 152,
   "metadata": {
    "collapsed": false
   },
   "outputs": [
    {
     "name": "stdout",
     "output_type": "stream",
     "text": [
      "Epoch 20, Loss 34.851212\n",
      "Epoch 40, Loss 24.469332\n",
      "Epoch 60, Loss 17.372578\n",
      "Epoch 80, Loss 12.521441\n",
      "Epoch 100, Loss 9.205350\n",
      "Epoch 120, Loss 6.938550\n",
      "Epoch 140, Loss 5.389028\n",
      "Epoch 160, Loss 4.329810\n",
      "Epoch 180, Loss 3.605753\n",
      "Epoch 200, Loss 3.110803\n",
      "Epoch 220, Loss 2.772462\n",
      "Epoch 240, Loss 2.541175\n",
      "Epoch 260, Loss 2.383065\n",
      "Epoch 280, Loss 2.274978\n",
      "Epoch 300, Loss 2.201085\n",
      "Epoch 320, Loss 2.150566\n",
      "Epoch 340, Loss 2.116026\n",
      "Epoch 360, Loss 2.092408\n",
      "Epoch 380, Loss 2.076254\n",
      "Epoch 400, Loss 2.065205\n",
      "Epoch 420, Loss 2.057645\n",
      "Epoch 440, Loss 2.052468\n",
      "Epoch 460, Loss 2.048922\n",
      "Epoch 480, Loss 2.046491\n",
      "Epoch 500, Loss 2.044822\n"
     ]
    }
   ],
   "source": [
    "pytorch_params2 = training_loop(500, optim, params, x_, y_)"
   ]
  },
  {
   "cell_type": "code",
   "execution_count": 153,
   "metadata": {
    "collapsed": false
   },
   "outputs": [
    {
     "name": "stdout",
     "output_type": "stream",
     "text": [
      "Pytorch SDG optim MSE: 2.044753263308716\n"
     ]
    }
   ],
   "source": [
    "pytorch_params2_ = pytorch_params2.detach().numpy()\n",
    "pytorch_vals2 = pytorch_params2_[0]*x+pytorch_params2_[1]\n",
    "err = y - pytorch_vals2\n",
    "mse = 1/len(x) * (err**2).sum()\n",
    "print('Pytorch SDG optim MSE: {}'.format(mse))"
   ]
  },
  {
   "cell_type": "code",
   "execution_count": null,
   "metadata": {
    "collapsed": false
   },
   "outputs": [],
   "source": []
  },
  {
   "cell_type": "code",
   "execution_count": null,
   "metadata": {
    "collapsed": true
   },
   "outputs": [],
   "source": []
  }
 ],
 "metadata": {
  "kernelspec": {
   "display_name": "Python 3",
   "language": "python",
   "name": "python3"
  },
  "language_info": {
   "codemirror_mode": {
    "name": "ipython",
    "version": 3
   },
   "file_extension": ".py",
   "mimetype": "text/x-python",
   "name": "python",
   "nbconvert_exporter": "python",
   "pygments_lexer": "ipython3",
   "version": "3.6.0"
  }
 },
 "nbformat": 4,
 "nbformat_minor": 4
}
